{
 "cells": [
  {
   "cell_type": "markdown",
   "metadata": {},
   "source": [
    "# Day2で学んだことを使ったロジスティック回帰"
   ]
  },
  {
   "cell_type": "code",
   "execution_count": 56,
   "metadata": {},
   "outputs": [],
   "source": [
    "%matplotlib inline\n",
    "import pandas as pd\n",
    "import numpy as np\n",
    "import matplotlib.pyplot as plt\n",
    "import seaborn as sns\n",
    "from sklearn.model_selection import train_test_split, GridSearchCV\n",
    "from sklearn.preprocessing import StandardScaler\n",
    "from sklearn.model_selection import KFold\n",
    "from sklearn.linear_model import SGDClassifier\n",
    "from sklearn.metrics import log_loss, accuracy_score, confusion_matrix"
   ]
  },
  {
   "cell_type": "code",
   "execution_count": 96,
   "metadata": {},
   "outputs": [],
   "source": [
    "# Day1で作成したデータを読み込み\n",
    "df_kickstarter = pd.read_csv(\"ks-projects-201801_day1.csv\")"
   ]
  },
  {
   "cell_type": "code",
   "execution_count": 98,
   "metadata": {},
   "outputs": [],
   "source": [
    "df_kickstarter = df_kickstarter.drop(\"Unnamed: 0\", axis=1)"
   ]
  },
  {
   "cell_type": "code",
   "execution_count": 99,
   "metadata": {},
   "outputs": [
    {
     "name": "stdout",
     "output_type": "stream",
     "text": [
      "<class 'pandas.core.frame.DataFrame'>\n",
      "RangeIndex: 295703 entries, 0 to 295702\n",
      "Data columns (total 20 columns):\n",
      " #   Column              Non-Null Count   Dtype  \n",
      "---  ------              --------------   -----  \n",
      " 0   state               295703 non-null  int64  \n",
      " 1   usd_goal_real       295703 non-null  float64\n",
      " 2   period              295703 non-null  float64\n",
      " 3   period_band         295703 non-null  int64  \n",
      " 4   usd_goal_real_band  295703 non-null  int64  \n",
      " 5   Art                 295703 non-null  int64  \n",
      " 6   Comics              295703 non-null  int64  \n",
      " 7   Crafts              295703 non-null  int64  \n",
      " 8   Dance               295703 non-null  int64  \n",
      " 9   Design              295703 non-null  int64  \n",
      " 10  Fashion             295703 non-null  int64  \n",
      " 11  Film & Video        295703 non-null  int64  \n",
      " 12  Food                295703 non-null  int64  \n",
      " 13  Games               295703 non-null  int64  \n",
      " 14  Journalism          295703 non-null  int64  \n",
      " 15  Music               295703 non-null  int64  \n",
      " 16  Photography         295703 non-null  int64  \n",
      " 17  Publishing          295703 non-null  int64  \n",
      " 18  Technology          295703 non-null  int64  \n",
      " 19  Theater             295703 non-null  int64  \n",
      "dtypes: float64(2), int64(18)\n",
      "memory usage: 45.1 MB\n"
     ]
    }
   ],
   "source": [
    "df_kickstarter.info()"
   ]
  },
  {
   "cell_type": "code",
   "execution_count": 100,
   "metadata": {},
   "outputs": [
    {
     "data": {
      "text/plain": [
       "state                 0\n",
       "usd_goal_real         0\n",
       "period                0\n",
       "period_band           0\n",
       "usd_goal_real_band    0\n",
       "Art                   0\n",
       "Comics                0\n",
       "Crafts                0\n",
       "Dance                 0\n",
       "Design                0\n",
       "Fashion               0\n",
       "Film & Video          0\n",
       "Food                  0\n",
       "Games                 0\n",
       "Journalism            0\n",
       "Music                 0\n",
       "Photography           0\n",
       "Publishing            0\n",
       "Technology            0\n",
       "Theater               0\n",
       "dtype: int64"
      ]
     },
     "execution_count": 100,
     "metadata": {},
     "output_type": "execute_result"
    }
   ],
   "source": [
    "df_kickstarter.isnull().sum()"
   ]
  },
  {
   "cell_type": "code",
   "execution_count": 101,
   "metadata": {},
   "outputs": [
    {
     "data": {
      "text/plain": [
       "Index(['state', 'usd_goal_real', 'period', 'period_band', 'usd_goal_real_band',\n",
       "       'Art', 'Comics', 'Crafts', 'Dance', 'Design', 'Fashion', 'Film & Video',\n",
       "       'Food', 'Games', 'Journalism', 'Music', 'Photography', 'Publishing',\n",
       "       'Technology', 'Theater'],\n",
       "      dtype='object')"
      ]
     },
     "execution_count": 101,
     "metadata": {},
     "output_type": "execute_result"
    }
   ],
   "source": [
    "df_kickstarter.columns"
   ]
  },
  {
   "cell_type": "code",
   "execution_count": 102,
   "metadata": {},
   "outputs": [
    {
     "data": {
      "text/plain": [
       "<matplotlib.axes._subplots.AxesSubplot at 0x7ff41bd6b8b0>"
      ]
     },
     "execution_count": 102,
     "metadata": {},
     "output_type": "execute_result"
    },
    {
     "data": {
      "image/png": "[encoded data removed]",
      "text/plain": [
       "<Figure size 432x288 with 1 Axes>"
      ]
     },
     "metadata": {
      "needs_background": "light"
     },
     "output_type": "display_data"
    }
   ],
   "source": [
    "sns.countplot(df_kickstarter[\"period_band\"], hue=df_kickstarter[\"state\"])"
   ]
  },
  {
   "cell_type": "code",
   "execution_count": 103,
   "metadata": {},
   "outputs": [
    {
     "data": {
      "text/plain": [
       "<matplotlib.axes._subplots.AxesSubplot at 0x7ff37274ceb0>"
      ]
     },
     "execution_count": 103,
     "metadata": {},
     "output_type": "execute_result"
    },
    {
     "data": {
      "image/png": "[encoded data removed]",
      "text/plain": [
       "<Figure size 432x288 with 1 Axes>"
      ]
     },
     "metadata": {
      "needs_background": "light"
     },
     "output_type": "display_data"
    }
   ],
   "source": [
    "sns.countplot(df_kickstarter[\"usd_goal_real_band\"], hue=df_kickstarter[\"state\"])"
   ]
  },
  {
   "cell_type": "markdown",
   "metadata": {},
   "source": [
    "# LASSOによる特徴選択"
   ]
  },
  {
   "cell_type": "code",
   "execution_count": 111,
   "metadata": {},
   "outputs": [],
   "source": [
    "from sklearn.linear_model import LassoCV\n",
    "from sklearn.feature_selection import SelectFromModel\n",
    "\n",
    "estimator = LassoCV(normalize=True, cv=10)\n",
    "sfm = SelectFromModel(estimator, threshold=1e-5)"
   ]
  },
  {
   "cell_type": "markdown",
   "metadata": {},
   "source": [
    "### 標準化していないperiod, usd_goal_realの重要性を調べる."
   ]
  },
  {
   "cell_type": "code",
   "execution_count": 121,
   "metadata": {},
   "outputs": [
    {
     "data": {
      "text/plain": [
       "SelectFromModel(estimator=LassoCV(cv=10, normalize=True), threshold=1e-05)"
      ]
     },
     "execution_count": 121,
     "metadata": {},
     "output_type": "execute_result"
    }
   ],
   "source": [
    "y = df_kickstarter[\"state\"].values\n",
    "X = df_kickstarter.drop([\"state\", \"period_band\", \"usd_goal_real_band\"], axis=1).values\n",
    "\n",
    "sfm.fit(X, y)"
   ]
  },
  {
   "cell_type": "code",
   "execution_count": 122,
   "metadata": {},
   "outputs": [
    {
     "data": {
      "text/plain": [
       "array([False,  True, False,  True,  True,  True,  True,  True,  True,\n",
       "        True,  True,  True,  True,  True,  True,  True,  True])"
      ]
     },
     "execution_count": 122,
     "metadata": {},
     "output_type": "execute_result"
    }
   ],
   "source": [
    "sfm.get_support()"
   ]
  },
  {
   "cell_type": "code",
   "execution_count": 123,
   "metadata": {},
   "outputs": [
    {
     "data": {
      "text/plain": [
       "Index(['usd_goal_real', 'Art'], dtype='object')"
      ]
     },
     "execution_count": 123,
     "metadata": {},
     "output_type": "execute_result"
    }
   ],
   "source": [
    "removed_idx = ~sfm.get_support()\n",
    "df_kickstarter.drop([\"state\", \"period_band\", \"usd_goal_real_band\"], axis=1).columns[removed_idx]"
   ]
  },
  {
   "cell_type": "code",
   "execution_count": 124,
   "metadata": {
    "scrolled": true
   },
   "outputs": [
    {
     "data": {
      "image/png": "[encoded data removed]",
      "text/plain": [
       "<Figure size 504x504 with 1 Axes>"
      ]
     },
     "metadata": {
      "needs_background": "light"
     },
     "output_type": "display_data"
    }
   ],
   "source": [
    "# LASSOで得た各特徴の係数の値を確認してみよう\n",
    "# 係数の絶対値を取得\n",
    "abs_coef = np.abs(sfm.estimator_.coef_)\n",
    "\n",
    "# 係数を棒グラフで表示\n",
    "plt.figure(figsize=(7, 7))\n",
    "plt.barh(np.arange(0, len(abs_coef)), abs_coef, tick_label=df_kickstarter.drop([\"state\", \"period_band\", \"usd_goal_real_band\"], axis=1).columns.values)\n",
    "plt.show()"
   ]
  },
  {
   "cell_type": "markdown",
   "metadata": {},
   "source": [
    "- 標準化していないとusd_goal_realとperiodはあまり重要ではない説明変数とされている．"
   ]
  },
  {
   "cell_type": "markdown",
   "metadata": {},
   "source": [
    "### period_bandとusd_goal_real_bandの重要性を調べる．"
   ]
  },
  {
   "cell_type": "code",
   "execution_count": 125,
   "metadata": {},
   "outputs": [
    {
     "data": {
      "text/plain": [
       "SelectFromModel(estimator=LassoCV(cv=10, normalize=True), threshold=1e-05)"
      ]
     },
     "execution_count": 125,
     "metadata": {},
     "output_type": "execute_result"
    }
   ],
   "source": [
    "y = df_kickstarter[\"state\"].values\n",
    "X = df_kickstarter.drop([\"state\", \"period\", \"usd_goal_real\"], axis=1).values\n",
    "\n",
    "sfm.fit(X, y)"
   ]
  },
  {
   "cell_type": "code",
   "execution_count": 126,
   "metadata": {},
   "outputs": [
    {
     "data": {
      "text/plain": [
       "array([ True,  True, False,  True,  True,  True,  True,  True,  True,\n",
       "        True,  True,  True,  True,  True,  True,  True,  True])"
      ]
     },
     "execution_count": 126,
     "metadata": {},
     "output_type": "execute_result"
    }
   ],
   "source": [
    "sfm.get_support()"
   ]
  },
  {
   "cell_type": "code",
   "execution_count": 127,
   "metadata": {},
   "outputs": [
    {
     "data": {
      "text/plain": [
       "Index(['Art'], dtype='object')"
      ]
     },
     "execution_count": 127,
     "metadata": {},
     "output_type": "execute_result"
    }
   ],
   "source": [
    "removed_idx = ~sfm.get_support()\n",
    "df_kickstarter.drop([\"state\", \"period\", \"usd_goal_real\"], axis=1).columns[removed_idx]"
   ]
  },
  {
   "cell_type": "code",
   "execution_count": 136,
   "metadata": {
    "scrolled": true
   },
   "outputs": [
    {
     "data": {
      "image/png": "[encoded data removed]",
      "text/plain": [
       "<Figure size 504x504 with 1 Axes>"
      ]
     },
     "metadata": {
      "needs_background": "light"
     },
     "output_type": "display_data"
    }
   ],
   "source": [
    "# LASSOで得た各特徴の係数の値を確認してみよう\n",
    "# 係数の絶対値を取得\n",
    "abs_coef = np.abs(sfm.estimator_.coef_)\n",
    "\n",
    "# 係数を棒グラフで表示\n",
    "plt.figure(figsize=(7, 7))\n",
    "plt.barh(np.arange(0, len(abs_coef)), abs_coef, tick_label=df_kickstarter.drop([\"state\", \"period\", \"usd_goal_real\"], axis=1).columns.values)\n",
    "plt.show()"
   ]
  },
  {
   "cell_type": "code",
   "execution_count": 135,
   "metadata": {},
   "outputs": [
    {
     "data": {
      "text/plain": [
       "Art             24426\n",
       "Comics           9575\n",
       "Crafts           7510\n",
       "Dance            3475\n",
       "Design          21115\n",
       "Fashion         18326\n",
       "Film & Video    48735\n",
       "Food            18400\n",
       "Games           24634\n",
       "Journalism       3709\n",
       "Music           44376\n",
       "Photography      9315\n",
       "Publishing      33844\n",
       "Technology      18551\n",
       "Theater          9712\n",
       "dtype: int64"
      ]
     },
     "execution_count": 135,
     "metadata": {},
     "output_type": "execute_result"
    }
   ],
   "source": [
    "df_kickstarter.iloc[:, 5:].sum()"
   ]
  },
  {
   "cell_type": "markdown",
   "metadata": {},
   "source": [
    "- Artが不要だと判断されたが，Artはmain_categoryのなかで24426回登場するので直感にやや反する．"
   ]
  },
  {
   "cell_type": "markdown",
   "metadata": {},
   "source": [
    "## Day1で考えたロジスティック回帰のモデルに最適な正則化項をつけていく．"
   ]
  },
  {
   "cell_type": "code",
   "execution_count": 138,
   "metadata": {},
   "outputs": [
    {
     "name": "stdout",
     "output_type": "stream",
     "text": [
      "Fitting 5 folds for each of 4 candidates, totalling 20 fits\n"
     ]
    },
    {
     "name": "stderr",
     "output_type": "stream",
     "text": [
      "[Parallel(n_jobs=1)]: Using backend SequentialBackend with 1 concurrent workers.\n",
      "[Parallel(n_jobs=1)]: Done  20 out of  20 | elapsed:  4.7min finished\n"
     ]
    },
    {
     "name": "stdout",
     "output_type": "stream",
     "text": [
      "{'penalty': 'l2'} 0.5534228567831028\n"
     ]
    }
   ],
   "source": [
    "y = df_kickstarter[\"state\"].values\n",
    "# bandなしの場合\n",
    "X = df_kickstarter.drop([\"state\", \"period_band\", \"usd_goal_real_band\"], axis=1).values\n",
    "X_train, X_test, y_train, y_test = train_test_split(X, y, test_size=0.3)\n",
    "\n",
    "# GridSearchCVを用いて適切なペナルティを決める\n",
    "parameters = {\"penalty\": [\"none\", \"l1\", \"l2\", \"ElasticNet\"]}\n",
    "model = SGDClassifier(loss=\"log\", max_iter=100000,\n",
    "                   fit_intercept=True, random_state=1234, tol=1e-3)\n",
    "clf = GridSearchCV(model, parameters, cv=5, verbose=True)\n",
    "clf.fit(X_train, y_train)\n",
    "print(clf.best_params_, clf.best_score_)"
   ]
  },
  {
   "cell_type": "code",
   "execution_count": 139,
   "metadata": {},
   "outputs": [
    {
     "name": "stdout",
     "output_type": "stream",
     "text": [
      "識別精度 = 0.432\n"
     ]
    }
   ],
   "source": [
    "clf2 = SGDClassifier(**clf.best_params_, loss=\"log\", max_iter=100000,\n",
    "                   fit_intercept=True, random_state=1234, tol=1e-3)\n",
    "clf2.fit(X_test, y_test)\n",
    "print(\"識別精度 = {:.3f}\".format(clf2.score(X_test, y_test)))\n"
   ]
  },
  {
   "cell_type": "code",
   "execution_count": 140,
   "metadata": {},
   "outputs": [
    {
     "name": "stdout",
     "output_type": "stream",
     "text": [
      "対数尤度 = -1740418.128\n",
      "正答率 = 43.196%\n"
     ]
    }
   ],
   "source": [
    "y_est = clf2.predict(X_test)\n",
    "y_est_proba = clf2.predict_proba(X_test)\n",
    "print(\"対数尤度 = {:.3f}\".format(-log_loss(y_test, y_est_proba, normalize=False)))\n",
    "print(\"正答率 = {:.3f}%\".format(100 * accuracy_score(y_test, y_est)))"
   ]
  },
  {
   "cell_type": "code",
   "execution_count": 141,
   "metadata": {},
   "outputs": [
    {
     "data": {
      "text/html": [
       "<div>\n",
       "<style scoped>\n",
       "    .dataframe tbody tr th:only-of-type {\n",
       "        vertical-align: middle;\n",
       "    }\n",
       "\n",
       "    .dataframe tbody tr th {\n",
       "        vertical-align: top;\n",
       "    }\n",
       "\n",
       "    .dataframe thead th {\n",
       "        text-align: right;\n",
       "    }\n",
       "</style>\n",
       "<table border=\"1\" class=\"dataframe\">\n",
       "  <thead>\n",
       "    <tr style=\"text-align: right;\">\n",
       "      <th></th>\n",
       "      <th>予測値 = failed</th>\n",
       "      <th>予測値 = successful</th>\n",
       "    </tr>\n",
       "  </thead>\n",
       "  <tbody>\n",
       "    <tr>\n",
       "      <th>正解 = failed</th>\n",
       "      <td>5</td>\n",
       "      <td>50384</td>\n",
       "    </tr>\n",
       "    <tr>\n",
       "      <th>正解 = successful</th>\n",
       "      <td>7</td>\n",
       "      <td>38315</td>\n",
       "    </tr>\n",
       "  </tbody>\n",
       "</table>\n",
       "</div>"
      ],
      "text/plain": [
       "                 予測値 = failed  予測値 = successful\n",
       "正解 = failed                 5             50384\n",
       "正解 = successful             7             38315"
      ]
     },
     "metadata": {},
     "output_type": "display_data"
    }
   ],
   "source": [
    "conf_mat = pd.DataFrame(confusion_matrix(y_test, y_est), index=[\"正解 = failed\", \"正解 = successful\"], columns=[\"予測値 = failed\", \"予測値 = successful\"])\n",
    "display(conf_mat)"
   ]
  },
  {
   "cell_type": "code",
   "execution_count": 142,
   "metadata": {},
   "outputs": [
    {
     "name": "stdout",
     "output_type": "stream",
     "text": [
      "適合率（Precision） = 43.197%\n",
      "再現率（Recall） = 99.982%\n",
      "F1値（F1-score） = 60.329%\n"
     ]
    }
   ],
   "source": [
    "# precision, recall, f1を計算\n",
    "from sklearn.metrics import precision_recall_fscore_support\n",
    "\n",
    "precision, recall, f1_score, _ = precision_recall_fscore_support(y_test, y_est)\n",
    "\n",
    "print('適合率（Precision） = {:.3f}%'.format(100 * precision[1]))\n",
    "print('再現率（Recall） = {:.3f}%'.format(100 * recall[1]))\n",
    "print('F1値（F1-score） = {:.3f}%'.format(100 * f1_score[1]))"
   ]
  },
  {
   "cell_type": "code",
   "execution_count": 143,
   "metadata": {},
   "outputs": [
    {
     "data": {
      "text/plain": [
       "{'mean_fit_time': array([13.44549503, 11.80884814, 14.44026337, 17.03374424]),\n",
       " 'std_fit_time': array([1.99967667, 1.89248334, 2.32482964, 0.91945093]),\n",
       " 'mean_score_time': array([0.00389781, 0.00368199, 0.00365782, 0.00385113]),\n",
       " 'std_score_time': array([0.0005039 , 0.00035166, 0.00051948, 0.00027593]),\n",
       " 'param_penalty': masked_array(data=['none', 'l1', 'l2', 'ElasticNet'],\n",
       "              mask=[False, False, False, False],\n",
       "        fill_value='?',\n",
       "             dtype=object),\n",
       " 'params': [{'penalty': 'none'},\n",
       "  {'penalty': 'l1'},\n",
       "  {'penalty': 'l2'},\n",
       "  {'penalty': 'ElasticNet'}],\n",
       " 'split0_test_score': array([0.61733375, 0.4973067 , 0.44298171, 0.58774367]),\n",
       " 'split1_test_score': array([0.43353704, 0.46580835, 0.55989275, 0.47428682]),\n",
       " 'split2_test_score': array([0.59326538, 0.57814387, 0.58886903, 0.5853906 ]),\n",
       " 'split3_test_score': array([0.43634958, 0.47514373, 0.58524566, 0.52918015]),\n",
       " 'split4_test_score': array([0.59681627, 0.472704  , 0.59012513, 0.58841007]),\n",
       " 'mean_test_score': array([0.5354604 , 0.49782133, 0.55342286, 0.55300226]),\n",
       " 'std_test_score': array([0.082487  , 0.0415258 , 0.05631214, 0.04532835]),\n",
       " 'rank_test_score': array([3, 4, 1, 2], dtype=int32)}"
      ]
     },
     "execution_count": 143,
     "metadata": {},
     "output_type": "execute_result"
    }
   ],
   "source": [
    "clf.cv_results_"
   ]
  },
  {
   "cell_type": "markdown",
   "metadata": {},
   "source": [
    "- penaltyが l2 > ElasticNet > none > l1の順で正答率がよかったが，ほとんどをsuccessfulと予測しており，標準化していないとusd_goal_real, periodは使い物にならないことがわかった．"
   ]
  },
  {
   "cell_type": "markdown",
   "metadata": {},
   "source": [
    "## periodとusd_goal_realを標準化してロジスティック回帰を行う"
   ]
  },
  {
   "cell_type": "code",
   "execution_count": 155,
   "metadata": {},
   "outputs": [
    {
     "data": {
      "text/plain": [
       "Index(['state', 'usd_goal_real', 'period', 'Art', 'Comics', 'Crafts', 'Dance',\n",
       "       'Design', 'Fashion', 'Film & Video', 'Food', 'Games', 'Journalism',\n",
       "       'Music', 'Photography', 'Publishing', 'Technology', 'Theater'],\n",
       "      dtype='object')"
      ]
     },
     "execution_count": 155,
     "metadata": {},
     "output_type": "execute_result"
    }
   ],
   "source": [
    "df_kickstarter = pd.read_csv(\"ks-projects-201801_day1.csv\")\n",
    "\n",
    "df_kickstarter = df_kickstarter.drop(['Unnamed: 0', \"usd_goal_real_band\", \"period_band\"], axis=1)\n",
    "df_kickstarter.columns"
   ]
  },
  {
   "cell_type": "code",
   "execution_count": 156,
   "metadata": {},
   "outputs": [
    {
     "name": "stdout",
     "output_type": "stream",
     "text": [
      "Fitting 5 folds for each of 4 candidates, totalling 20 fits\n"
     ]
    },
    {
     "name": "stderr",
     "output_type": "stream",
     "text": [
      "[Parallel(n_jobs=1)]: Using backend SequentialBackend with 1 concurrent workers.\n",
      "[Parallel(n_jobs=1)]: Done  20 out of  20 | elapsed:    7.9s finished\n"
     ]
    },
    {
     "name": "stdout",
     "output_type": "stream",
     "text": [
      "{'penalty': 'l1'} 0.6219274123904666\n"
     ]
    }
   ],
   "source": [
    "y = df_kickstarter[\"state\"].values\n",
    "X = df_kickstarter.drop(\"state\", axis=1).values\n",
    "\n",
    "# df_kickstarterのusd_goal_real, periodを標準化していく\n",
    "stdsc = StandardScaler()\n",
    "X_train, X_test, y_train, y_test = train_test_split(X, y, test_size=0.3)\n",
    "\n",
    "X_train[:, 0] = stdsc.fit_transform(X_train[:, 0].reshape(-1, 1)).reshape(1, -1) # usd_goal_realの標準化\n",
    "X_test[:, 0] = stdsc.transform(X_test[:, 0].reshape(-1, 1)).reshape(1, -1) \n",
    "\n",
    "X_train[:, 1] = stdsc.fit_transform(X_train[:, 1].reshape(-1, 1)).reshape(1, -1)  # periodの標準化\n",
    "X_test[:, 1] = stdsc.transform(X_test[:, 1].reshape(-1, 1)).reshape(1, -1) \n",
    "\n",
    "# GridSearchCVを用いて適切なペナルティを決める\n",
    "parameters = {\"penalty\": [\"none\", \"l1\", \"l2\", \"ElasticNet\"]}\n",
    "model = SGDClassifier(loss=\"log\", max_iter=100000,\n",
    "                   fit_intercept=True, random_state=1234, tol=1e-3)\n",
    "clf = GridSearchCV(model, parameters, cv=5, verbose=True)\n",
    "clf.fit(X_train, y_train)\n",
    "print(clf.best_params_, clf.best_score_)\n"
   ]
  },
  {
   "cell_type": "code",
   "execution_count": 157,
   "metadata": {},
   "outputs": [
    {
     "name": "stdout",
     "output_type": "stream",
     "text": [
      "識別精度 =  0.6207572905276685\n"
     ]
    }
   ],
   "source": [
    "clf2 = SGDClassifier(**clf.best_params_, loss=\"log\", max_iter=100000,\n",
    "                   fit_intercept=True, random_state=1234, tol=1e-3)\n",
    "clf2.fit(X_test, y_test)\n",
    "print(\"識別精度 = \", clf2.score(X_test, y_test))\n"
   ]
  },
  {
   "cell_type": "code",
   "execution_count": 158,
   "metadata": {},
   "outputs": [
    {
     "name": "stdout",
     "output_type": "stream",
     "text": [
      "対数尤度 = -57759.271\n",
      "正答率 = 62.076%\n"
     ]
    }
   ],
   "source": [
    "y_est = clf2.predict(X_test)\n",
    "y_est_proba = clf2.predict_proba(X_test)\n",
    "print(\"対数尤度 = {:.3f}\".format(-log_loss(y_test, y_est_proba, normalize=False)))\n",
    "print(\"正答率 = {:.3f}%\".format(100 * accuracy_score(y_test, y_est)))"
   ]
  },
  {
   "cell_type": "code",
   "execution_count": 159,
   "metadata": {},
   "outputs": [
    {
     "data": {
      "text/html": [
       "<div>\n",
       "<style scoped>\n",
       "    .dataframe tbody tr th:only-of-type {\n",
       "        vertical-align: middle;\n",
       "    }\n",
       "\n",
       "    .dataframe tbody tr th {\n",
       "        vertical-align: top;\n",
       "    }\n",
       "\n",
       "    .dataframe thead th {\n",
       "        text-align: right;\n",
       "    }\n",
       "</style>\n",
       "<table border=\"1\" class=\"dataframe\">\n",
       "  <thead>\n",
       "    <tr style=\"text-align: right;\">\n",
       "      <th></th>\n",
       "      <th>予測値 = failed</th>\n",
       "      <th>予測値 = successful</th>\n",
       "    </tr>\n",
       "  </thead>\n",
       "  <tbody>\n",
       "    <tr>\n",
       "      <th>正解 = failed</th>\n",
       "      <td>40527</td>\n",
       "      <td>9833</td>\n",
       "    </tr>\n",
       "    <tr>\n",
       "      <th>正解 = successful</th>\n",
       "      <td>23810</td>\n",
       "      <td>14541</td>\n",
       "    </tr>\n",
       "  </tbody>\n",
       "</table>\n",
       "</div>"
      ],
      "text/plain": [
       "                 予測値 = failed  予測値 = successful\n",
       "正解 = failed             40527              9833\n",
       "正解 = successful         23810             14541"
      ]
     },
     "metadata": {},
     "output_type": "display_data"
    }
   ],
   "source": [
    "conf_mat = pd.DataFrame(confusion_matrix(y_test, y_est), index=[\"正解 = failed\", \"正解 = successful\"], columns=[\"予測値 = failed\", \"予測値 = successful\"])\n",
    "display(conf_mat)"
   ]
  },
  {
   "cell_type": "code",
   "execution_count": 160,
   "metadata": {},
   "outputs": [
    {
     "name": "stdout",
     "output_type": "stream",
     "text": [
      "適合率（Precision） = 59.658%\n",
      "再現率（Recall） = 37.916%\n",
      "F1値（F1-score） = 46.364%\n"
     ]
    }
   ],
   "source": [
    "# precision, recall, f1を計算\n",
    "\n",
    "precision, recall, f1_score, _ = precision_recall_fscore_support(y_test, y_est)\n",
    "\n",
    "print('適合率（Precision） = {:.3f}%'.format(100 * precision[1]))\n",
    "print('再現率（Recall） = {:.3f}%'.format(100 * recall[1]))\n",
    "print('F1値（F1-score） = {:.3f}%'.format(100 * f1_score[1]))"
   ]
  },
  {
   "cell_type": "code",
   "execution_count": 168,
   "metadata": {},
   "outputs": [
    {
     "data": {
      "text/plain": [
       "{'mean_fit_time': array([0.46550455, 0.55699291, 0.48219533, 0.56801763]),\n",
       " 'std_fit_time': array([0.01985277, 0.01413961, 0.01297088, 0.02020137]),\n",
       " 'mean_score_time': array([0.00511208, 0.00420232, 0.00464597, 0.00422211]),\n",
       " 'std_score_time': array([0.00130263, 0.00061936, 0.00086054, 0.00040928]),\n",
       " 'param_penalty': masked_array(data=['none', 'l1', 'l2', 'ElasticNet'],\n",
       "              mask=[False, False, False, False],\n",
       "        fill_value='?',\n",
       "             dtype=object),\n",
       " 'params': [{'penalty': 'none'},\n",
       "  {'penalty': 'l1'},\n",
       "  {'penalty': 'l2'},\n",
       "  {'penalty': 'ElasticNet'}],\n",
       " 'split0_test_score': array([0.61076355, 0.61076355, 0.61076355, 0.61139158]),\n",
       " 'split1_test_score': array([0.61887968, 0.61887968, 0.61887968, 0.61887968]),\n",
       " 'split2_test_score': array([0.62034398, 0.62089956, 0.62034398, 0.62089956]),\n",
       " 'split3_test_score': array([0.62283202, 0.62346007, 0.62283202, 0.62292864]),\n",
       " 'split4_test_score': array([0.62152761, 0.62271124, 0.62162423, 0.62256631]),\n",
       " 'mean_test_score': array([0.61886937, 0.61934282, 0.61888869, 0.61933315]),\n",
       " 'std_test_score': array([0.00425788, 0.00457252, 0.0042701 , 0.00422158]),\n",
       " 'rank_test_score': array([4, 1, 3, 2], dtype=int32)}"
      ]
     },
     "execution_count": 168,
     "metadata": {},
     "output_type": "execute_result"
    }
   ],
   "source": [
    "clf.cv_results_"
   ]
  },
  {
   "cell_type": "markdown",
   "metadata": {},
   "source": [
    "-  l1 > ElasticNet > l2 > noneの順に良い結果が得られたがほとんどスコアは変わらなかった．"
   ]
  },
  {
   "cell_type": "markdown",
   "metadata": {},
   "source": [
    "### bandを使って，正則化項付きのロジスティック回帰をする．"
   ]
  },
  {
   "cell_type": "code",
   "execution_count": 162,
   "metadata": {},
   "outputs": [],
   "source": [
    "df_kickstarter = pd.read_csv(\"ks-projects-201801_day1.csv\").drop('Unnamed: 0', axis=1)"
   ]
  },
  {
   "cell_type": "code",
   "execution_count": 163,
   "metadata": {},
   "outputs": [
    {
     "name": "stdout",
     "output_type": "stream",
     "text": [
      "Fitting 5 folds for each of 4 candidates, totalling 20 fits\n"
     ]
    },
    {
     "name": "stderr",
     "output_type": "stream",
     "text": [
      "[Parallel(n_jobs=1)]: Using backend SequentialBackend with 1 concurrent workers.\n",
      "[Parallel(n_jobs=1)]: Done  20 out of  20 | elapsed:   10.5s finished\n"
     ]
    },
    {
     "name": "stdout",
     "output_type": "stream",
     "text": [
      "{'penalty': 'l1'} 0.6193428202172659\n"
     ]
    }
   ],
   "source": [
    "y = df_kickstarter[\"state\"].values\n",
    "# bandありの場合\n",
    "X = df_kickstarter.drop([\"state\", \"period\", \"usd_goal_real\"], axis=1).values\n",
    "X_train, X_test, y_train, y_test = train_test_split(X, y, test_size=0.3)\n",
    "\n",
    "# GridSearchCVを用いて適切なペナルティを決める\n",
    "parameters = {\"penalty\": [\"none\", \"l1\", \"l2\", \"ElasticNet\"]}\n",
    "model = SGDClassifier(loss=\"log\", max_iter=100000,\n",
    "                   fit_intercept=True, random_state=1234, tol=1e-3)\n",
    "clf = GridSearchCV(model, parameters, cv=5, verbose=True)\n",
    "clf.fit(X_train, y_train)\n",
    "print(clf.best_params_, clf.best_score_)"
   ]
  },
  {
   "cell_type": "code",
   "execution_count": 164,
   "metadata": {},
   "outputs": [
    {
     "name": "stdout",
     "output_type": "stream",
     "text": [
      "識別精度 =  0.6158199095940752\n"
     ]
    }
   ],
   "source": [
    "clf2 = SGDClassifier(**clf.best_params_, loss=\"log\", max_iter=100000,\n",
    "                   fit_intercept=True, random_state=1234, tol=1e-3)\n",
    "clf2.fit(X_test, y_test)\n",
    "print(\"識別精度 = \", clf2.score(X_test, y_test))\n"
   ]
  },
  {
   "cell_type": "code",
   "execution_count": 165,
   "metadata": {},
   "outputs": [
    {
     "name": "stdout",
     "output_type": "stream",
     "text": [
      "対数尤度 = -57944.223\n",
      "正答率 = 61.582%\n"
     ]
    }
   ],
   "source": [
    "y_est = clf2.predict(X_test)\n",
    "y_est_proba = clf2.predict_proba(X_test)\n",
    "print(\"対数尤度 = {:.3f}\".format(-log_loss(y_test, y_est_proba, normalize=False)))\n",
    "print(\"正答率 = {:.3f}%\".format(100 * accuracy_score(y_test, y_est)))"
   ]
  },
  {
   "cell_type": "code",
   "execution_count": 166,
   "metadata": {},
   "outputs": [
    {
     "data": {
      "text/html": [
       "<div>\n",
       "<style scoped>\n",
       "    .dataframe tbody tr th:only-of-type {\n",
       "        vertical-align: middle;\n",
       "    }\n",
       "\n",
       "    .dataframe tbody tr th {\n",
       "        vertical-align: top;\n",
       "    }\n",
       "\n",
       "    .dataframe thead th {\n",
       "        text-align: right;\n",
       "    }\n",
       "</style>\n",
       "<table border=\"1\" class=\"dataframe\">\n",
       "  <thead>\n",
       "    <tr style=\"text-align: right;\">\n",
       "      <th></th>\n",
       "      <th>予測値 = failed</th>\n",
       "      <th>予測値 = successful</th>\n",
       "    </tr>\n",
       "  </thead>\n",
       "  <tbody>\n",
       "    <tr>\n",
       "      <th>正解 = failed</th>\n",
       "      <td>35546</td>\n",
       "      <td>14764</td>\n",
       "    </tr>\n",
       "    <tr>\n",
       "      <th>正解 = successful</th>\n",
       "      <td>19317</td>\n",
       "      <td>19084</td>\n",
       "    </tr>\n",
       "  </tbody>\n",
       "</table>\n",
       "</div>"
      ],
      "text/plain": [
       "                 予測値 = failed  予測値 = successful\n",
       "正解 = failed             35546             14764\n",
       "正解 = successful         19317             19084"
      ]
     },
     "metadata": {},
     "output_type": "display_data"
    }
   ],
   "source": [
    "conf_mat = pd.DataFrame(confusion_matrix(y_test, y_est), index=[\"正解 = failed\", \"正解 = successful\"], columns=[\"予測値 = failed\", \"予測値 = successful\"])\n",
    "display(conf_mat)"
   ]
  },
  {
   "cell_type": "code",
   "execution_count": 167,
   "metadata": {},
   "outputs": [
    {
     "name": "stdout",
     "output_type": "stream",
     "text": [
      "適合率（Precision） = 56.381%\n",
      "再現率（Recall） = 49.697%\n",
      "F1値（F1-score） = 52.828%\n"
     ]
    }
   ],
   "source": [
    "# precision, recall, f1を計算\n",
    "\n",
    "precision, recall, f1_score, _ = precision_recall_fscore_support(y_test, y_est)\n",
    "\n",
    "print('適合率（Precision） = {:.3f}%'.format(100 * precision[1]))\n",
    "print('再現率（Recall） = {:.3f}%'.format(100 * recall[1]))\n",
    "print('F1値（F1-score） = {:.3f}%'.format(100 * f1_score[1]))"
   ]
  },
  {
   "cell_type": "code",
   "execution_count": 172,
   "metadata": {},
   "outputs": [
    {
     "data": {
      "text/plain": [
       "array([4, 1, 3, 2], dtype=int32)"
      ]
     },
     "execution_count": 172,
     "metadata": {},
     "output_type": "execute_result"
    }
   ],
   "source": [
    "clf.cv_results_[\"rank_test_score\"]"
   ]
  },
  {
   "cell_type": "markdown",
   "metadata": {},
   "source": [
    "# まとめ\n",
    "## 標準化なしperiod, usd_goal_real + ロジスティック回帰(L2正則化)\n",
    "- 正答率 = 43.196%\n",
    "- 適合率（Precision） = 43.197%\n",
    "- 再現率（Recall） = 99.982%\n",
    "- F1値（F1-score） = 60.329%\n",
    "- ほとんどの検証データに対してsuccessfulと予測してしまっている．\n",
    "\n",
    "## 標準化ありperiod, usd_goal_real + ロジスティック回帰(L1正則化)\n",
    "- 正答率 = 62.076%\n",
    "- 適合率（Precision） = 59.658%\n",
    "- 再現率（Recall） = 37.916%\n",
    "- F1値（F1-score） = 46.364%\n",
    "- 標準化を行うことで正答率が大幅に上昇した．\n",
    "\n",
    "## period_band, usd_goal_real_band + ロジスティック回帰(L1正則化)\n",
    "- 正答率 = 61.582%\n",
    "- 適合率（Precision） = 56.381%\n",
    "- 再現率（Recall） = 49.697%\n",
    "- F1値（F1-score） = 52.828%\n",
    "- 標準化と同等の正答率が得られ，precision, recall, f1-scoreのバランスが良くなった．"
   ]
  },
  {
   "cell_type": "markdown",
   "metadata": {},
   "source": [
    "標準化を行うだけで，bandで束にした結果と同等の正答率が得られることがわかった．"
   ]
  }
 ],
 "metadata": {
  "kernelspec": {
   "display_name": "Python 3",
   "language": "python",
   "name": "python3"
  },
  "language_info": {
   "codemirror_mode": {
    "name": "ipython",
    "version": 3
   },
   "file_extension": ".py",
   "mimetype": "text/x-python",
   "name": "python",
   "nbconvert_exporter": "python",
   "pygments_lexer": "ipython3",
   "version": "3.8.3"
  }
 },
 "nbformat": 4,
 "nbformat_minor": 4
}
